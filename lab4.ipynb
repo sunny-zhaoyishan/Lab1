{
 "cells": [
  {
   "cell_type": "code",
   "execution_count": 1,
   "id": "c2472a4e",
   "metadata": {},
   "outputs": [
    {
     "name": "stdout",
     "output_type": "stream",
     "text": [
      "[[2.]\n",
      " [3.]]\n",
      "[[ 0.0000000e+00]\n",
      " [-8.8817842e-16]]\n"
     ]
    }
   ],
   "source": [
    "import numpy as np\n",
    "from scipy.linalg import solve\n",
    "\n",
    "A = np.array([[3,2],[2,-1]])\n",
    "B = np.array([[12],[1]])\n",
    "\n",
    "x=solve(A,B)\n",
    "print(x)\n",
    "print(A.dot(x) - B)"
   ]
  },
  {
   "cell_type": "code",
   "execution_count": 3,
   "id": "9c2d0e5c",
   "metadata": {},
   "outputs": [
    {
     "name": "stdout",
     "output_type": "stream",
     "text": [
      "[[7.]\n",
      " [3.]]\n"
     ]
    }
   ],
   "source": [
    "A = np.array([[4,-2],[6,1]])\n",
    "b = np.array([[22],[45]])\n",
    "x = solve(A,b)\n",
    "print(x)"
   ]
  },
  {
   "cell_type": "code",
   "execution_count": 8,
   "id": "a02667ed",
   "metadata": {},
   "outputs": [
    {
     "name": "stdout",
     "output_type": "stream",
     "text": [
      "Optimization terminated successfully. (HiGHS Status 7: Optimal)\n",
      "[10. -3.]\n",
      "-22.0\n"
     ]
    }
   ],
   "source": [
    "import numpy as np\n",
    "from scipy.optimize import linprog\n",
    "c = np.array([-1,4])\n",
    "A_ub = np.array([[-3,1],[1,2]])\n",
    "b_ub = np.array([6,4])\n",
    "\n",
    "x0_bounds = (None,None)\n",
    "x1_bounds = (-3, None)\n",
    "\n",
    "bounds = [x0_bounds,x1_bounds]\n",
    "result = linprog(c,A_ub=A_ub,b_ub=b_ub,bounds=bounds)\n",
    "print(result.message)\n",
    "print(result.x)\n",
    "print(result.fun)"
   ]
  },
  {
   "cell_type": "code",
   "execution_count": 10,
   "id": "01fdfd97",
   "metadata": {},
   "outputs": [
    {
     "name": "stdout",
     "output_type": "stream",
     "text": [
      "Optimization terminated successfully. (HiGHS Status 7: Optimal)\n",
      "[40.  0.  0.]\n",
      "-160.0\n"
     ]
    }
   ],
   "source": [
    "c = np.array([-4,-5,-4])\n",
    "A_ub = np.array([[2,3,6],[4,2,4],[4,6,8]])\n",
    "b_ub = np.array([240,200,160])\n",
    "\n",
    "\n",
    "x1_bounds = (0,None)\n",
    "x2_bounds = (0,None)\n",
    "x3_bounds = (0,None)\n",
    "bounds = [x1_bounds,x2_bounds,x3_bounds]\n",
    "result = linprog(c,A_ub=A_ub,b_ub=b_ub,bounds=bounds)\n",
    "print(result.message)\n",
    "print(result.x)\n",
    "print(result.fun)"
   ]
  },
  {
   "cell_type": "code",
   "execution_count": 4,
   "id": "86488832",
   "metadata": {},
   "outputs": [
    {
     "name": "stdout",
     "output_type": "stream",
     "text": [
      "[[-1.]\n",
      " [ 2.]]\n",
      "[[-2.22044605e-16]\n",
      " [-2.22044605e-16]]\n"
     ]
    }
   ],
   "source": [
    "import numpy as np\n",
    "from scipy.linalg import solve\n",
    "A = np.array([[3,1],[2,1]])\n",
    "B = np.array([[-1],[0]])\n",
    "\n",
    "x=solve(A,B)\n",
    "print(x)\n",
    "print(A.dot(x) - B)"
   ]
  },
  {
   "cell_type": "code",
   "execution_count": 13,
   "id": "61c1f058",
   "metadata": {},
   "outputs": [
    {
     "name": "stdout",
     "output_type": "stream",
     "text": [
      "Optimization terminated successfully. (HiGHS Status 7: Optimal)\n",
      "[6. 0.]\n",
      "180.0\n"
     ]
    }
   ],
   "source": [
    "import numpy as np\n",
    "from scipy.optimize import linprog\n",
    "c = np.array([30,60])\n",
    "A_ub = np.array([[1,3],[3,2]])\n",
    "b_ub = np.array([21,21])\n",
    "A_eq = np.array([[3,1]])\n",
    "b_eq = np.array([18])\n",
    "\n",
    "x1_bounds = (0,None)\n",
    "x2_bounds = (0,None)\n",
    "\n",
    "bounds = [x1_bounds,x2_bounds]\n",
    "result = linprog(c,A_ub=A_ub,b_ub=b_ub,A_eq=A_eq,b_eq=b_eq,bounds=bounds)\n",
    "print(result.message)\n",
    "print(result.x)\n",
    "print(result.fun)"
   ]
  },
  {
   "cell_type": "code",
   "execution_count": null,
   "id": "fb48971b",
   "metadata": {},
   "outputs": [],
   "source": []
  },
  {
   "cell_type": "code",
   "execution_count": null,
   "id": "b7e2ca7c",
   "metadata": {},
   "outputs": [],
   "source": []
  }
 ],
 "metadata": {
  "kernelspec": {
   "display_name": "Python 3 (ipykernel)",
   "language": "python",
   "name": "python3"
  },
  "language_info": {
   "codemirror_mode": {
    "name": "ipython",
    "version": 3
   },
   "file_extension": ".py",
   "mimetype": "text/x-python",
   "name": "python",
   "nbconvert_exporter": "python",
   "pygments_lexer": "ipython3",
   "version": "3.11.5"
  }
 },
 "nbformat": 4,
 "nbformat_minor": 5
}
