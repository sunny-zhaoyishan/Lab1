{
 "cells": [
  {
   "cell_type": "code",
   "execution_count": 1,
   "id": "802aeb53",
   "metadata": {},
   "outputs": [
    {
     "name": "stdout",
     "output_type": "stream",
     "text": [
      "[[-1.]\n",
      " [ 2.]]\n",
      "[[-2.22044605e-16]\n",
      " [-2.22044605e-16]]\n"
     ]
    }
   ],
   "source": [
    "import numpy as np\n",
    "from scipy.linalg import solve\n",
    "A = np.array([[3,1],[2,1]])\n",
    "B = np.array([[-1],[0]])\n",
    "\n",
    "x=solve(A,B)\n",
    "print(x)\n",
    "print(A.dot(x) - B)"
   ]
  },
  {
   "cell_type": "code",
   "execution_count": 2,
   "id": "7f845f9e",
   "metadata": {},
   "outputs": [
    {
     "name": "stdout",
     "output_type": "stream",
     "text": [
      "Optimization terminated successfully. (HiGHS Status 7: Optimal)\n",
      "[5. 3.]\n",
      "-330.0\n"
     ]
    }
   ],
   "source": [
    "import numpy as np\n",
    "from scipy.optimize import linprog\n",
    "c = np.array([-30,-60])\n",
    "A_ub = np.array([[1,3],[3,2]])\n",
    "b_ub = np.array([21,21])\n",
    "A_eq = np.array([[3,1]])\n",
    "b_eq = np.array([18])\n",
    "\n",
    "x1_bounds = (0,None)\n",
    "x2_bounds = (0,None)\n",
    "\n",
    "bounds = [x1_bounds,x2_bounds]\n",
    "result = linprog(c,A_ub=A_ub,b_ub=b_ub,A_eq=A_eq,b_eq=b_eq,bounds=bounds)\n",
    "print(result.message)\n",
    "print(result.x)\n",
    "print(result.fun)"
   ]
  },
  {
   "cell_type": "code",
   "execution_count": null,
   "id": "06f54b0d",
   "metadata": {},
   "outputs": [],
   "source": []
  }
 ],
 "metadata": {
  "kernelspec": {
   "display_name": "Python 3 (ipykernel)",
   "language": "python",
   "name": "python3"
  },
  "language_info": {
   "codemirror_mode": {
    "name": "ipython",
    "version": 3
   },
   "file_extension": ".py",
   "mimetype": "text/x-python",
   "name": "python",
   "nbconvert_exporter": "python",
   "pygments_lexer": "ipython3",
   "version": "3.11.5"
  }
 },
 "nbformat": 4,
 "nbformat_minor": 5
}
